{
 "cells": [
  {
   "cell_type": "code",
   "execution_count": 69,
   "id": "1bce6b2e-40c6-4138-ab92-20b1d3951376",
   "metadata": {},
   "outputs": [],
   "source": [
    "#Adding tickers"
   ]
  },
  {
   "cell_type": "code",
   "execution_count": 70,
   "id": "f6afbf7c-977a-4065-9fc7-316309fa67a5",
   "metadata": {},
   "outputs": [],
   "source": [
    "from bs4 import BeautifulSoup as bs\n",
    "import requests as rq"
   ]
  },
  {
   "cell_type": "code",
   "execution_count": 71,
   "id": "f72f893a-0d9a-4624-8010-39f7e2d029b0",
   "metadata": {},
   "outputs": [],
   "source": [
    "url_omx30 = 'https://en.wikipedia.org/wiki/OMX_Stockholm_30'\n",
    "page = rq.get(url_omx30)\n",
    "soup = bs(page.content, 'html.parser')"
   ]
  },
  {
   "cell_type": "code",
   "execution_count": 72,
   "id": "72931f1b-d17f-4235-9e04-e75ae42d613b",
   "metadata": {},
   "outputs": [],
   "source": [
    "table = soup.find(\"table\", class_ = \"wikitable\")"
   ]
  },
  {
   "cell_type": "code",
   "execution_count": 73,
   "id": "42cad11b-382d-4119-945d-3a1f3a01ce79",
   "metadata": {},
   "outputs": [],
   "source": [
    "tickers = []"
   ]
  },
  {
   "cell_type": "code",
   "execution_count": 74,
   "id": "b344a40b-f0fe-4745-a6df-da55e86a6cf8",
   "metadata": {},
   "outputs": [],
   "source": [
    "for row in table.find_all('tr')[1:]:\n",
    "    col = row.find_all('td')\n",
    "    tickers.append(col[1].text.strip())\n",
    "    "
   ]
  },
  {
   "cell_type": "code",
   "execution_count": 84,
   "id": "1b6e7361-5238-410b-ab49-996773000eea",
   "metadata": {},
   "outputs": [],
   "source": [
    "yf_omx30_tickers = [ticker.replace(' ', '-') + '.ST' for ticker in tickers]\n",
    "yf_index_tickers = ['^OMX', '^GSPC', '^NDX', '^DJI', '^GDAXI']\n",
    "yf_commodity_tickers = ['GC=F', 'SI=F', 'CL=F', 'NG=F', 'HG=F']"
   ]
  },
  {
   "cell_type": "code",
   "execution_count": 76,
   "id": "31772bf4-6891-4575-9406-b5e0b318a4f7",
   "metadata": {},
   "outputs": [],
   "source": [
    "#All tikckers that should be used during this projected is now available"
   ]
  },
  {
   "cell_type": "code",
   "execution_count": null,
   "id": "c5993f69-9d75-467b-9b84-55e312e40eab",
   "metadata": {},
   "outputs": [],
   "source": []
  },
  {
   "cell_type": "code",
   "execution_count": 77,
   "id": "7bf96415-4bc8-41b5-b2c0-62932997c29e",
   "metadata": {},
   "outputs": [],
   "source": [
    "#Gathering raw data from yfinnace"
   ]
  },
  {
   "cell_type": "code",
   "execution_count": 78,
   "id": "3edf99ea-7172-4eb4-a3fd-d5fc0b2dc691",
   "metadata": {},
   "outputs": [],
   "source": [
    "import yfinance as yf\n",
    "import os\n",
    "import pandas as pd\n",
    "from datetime import datetime"
   ]
  },
  {
   "cell_type": "code",
   "execution_count": 91,
   "id": "51d601d8-c9f2-4a1f-8090-843a79043b08",
   "metadata": {},
   "outputs": [],
   "source": [
    "SAVE_DIR = 'raw'\n",
    "os.makedirs(SAVE_DIR, exist_ok=True)\n",
    "os.makedirs(f'{SAVE_DIR}/stocks', exist_ok=True)\n",
    "os.makedirs(f'{SAVE_DIR}/indices', exist_ok=True)\n",
    "os.makedirs(f'{SAVE_DIR}/commodities', exist_ok=True)"
   ]
  },
  {
   "cell_type": "code",
   "execution_count": 86,
   "id": "cd8f0c02-7e59-463c-93e3-24d0b56beb0e",
   "metadata": {},
   "outputs": [],
   "source": [
    "start_date = '2000-01-01'\n",
    "end_date = '2025-05-31'"
   ]
  },
  {
   "cell_type": "code",
   "execution_count": 92,
   "id": "01dc5092-b1a5-47c0-a0cb-104356b4e936",
   "metadata": {},
   "outputs": [
    {
     "name": "stderr",
     "output_type": "stream",
     "text": [
      "[*********************100%***********************]  1 of 1 completed"
     ]
    },
    {
     "name": "stdout",
     "output_type": "stream",
     "text": [
      "Hämtar data från ABB.ST...\n",
      "Hämtar data från ALFA.ST...\n"
     ]
    },
    {
     "name": "stderr",
     "output_type": "stream",
     "text": [
      "\n",
      "[*********************100%***********************]  1 of 1 completed\n",
      "[*********************100%***********************]  1 of 1 completed\n",
      "[*********************100%***********************]  1 of 1 completed\n"
     ]
    },
    {
     "name": "stdout",
     "output_type": "stream",
     "text": [
      "Hämtar data från ASSA-B.ST...\n",
      "Hämtar data från AZN.ST...\n",
      "Hämtar data från ATCO-A.ST...\n"
     ]
    },
    {
     "name": "stderr",
     "output_type": "stream",
     "text": [
      "[*********************100%***********************]  1 of 1 completed\n",
      "[*********************100%***********************]  1 of 1 completed\n",
      "[*********************100%***********************]  1 of 1 completed\n"
     ]
    },
    {
     "name": "stdout",
     "output_type": "stream",
     "text": [
      "Hämtar data från ATCO-B.ST...\n",
      "Hämtar data från BOL.ST...\n",
      "Hämtar data från ELUX-B.ST...\n"
     ]
    },
    {
     "name": "stderr",
     "output_type": "stream",
     "text": [
      "[*********************100%***********************]  1 of 1 completed\n",
      "[*********************100%***********************]  1 of 1 completed\n",
      "[*********************100%***********************]  1 of 1 completed\n",
      "[*********************100%***********************]  1 of 1 completed\n"
     ]
    },
    {
     "name": "stdout",
     "output_type": "stream",
     "text": [
      "Hämtar data från ERIC-B.ST...\n",
      "Hämtar data från ESSITY-B.ST...\n",
      "Hämtar data från EVO.ST...\n",
      "Hämtar data från GETI-B.ST...\n"
     ]
    },
    {
     "name": "stderr",
     "output_type": "stream",
     "text": [
      "[*********************100%***********************]  1 of 1 completed\n",
      "[*********************100%***********************]  1 of 1 completed\n",
      "[*********************100%***********************]  1 of 1 completed\n"
     ]
    },
    {
     "name": "stdout",
     "output_type": "stream",
     "text": [
      "Hämtar data från SHB-A.ST...\n",
      "Hämtar data från HM-B.ST...\n",
      "Hämtar data från HEXA-B.ST...\n"
     ]
    },
    {
     "name": "stderr",
     "output_type": "stream",
     "text": [
      "[*********************100%***********************]  1 of 1 completed\n",
      "[*********************100%***********************]  1 of 1 completed\n",
      "[*********************100%***********************]  1 of 1 completed\n"
     ]
    },
    {
     "name": "stdout",
     "output_type": "stream",
     "text": [
      "Hämtar data från INVE-B.ST...\n",
      "Hämtar data från KINV-B.ST...\n",
      "Hämtar data från NIBE-B.ST...\n"
     ]
    },
    {
     "name": "stderr",
     "output_type": "stream",
     "text": [
      "[*********************100%***********************]  1 of 1 completed\n",
      "[*********************100%***********************]  1 of 1 completed\n",
      "[*********************100%***********************]  1 of 1 completed\n",
      "[*********************100%***********************]  1 of 1 completed"
     ]
    },
    {
     "name": "stdout",
     "output_type": "stream",
     "text": [
      "Hämtar data från NDA-SE.ST...\n",
      "Hämtar data från SAAB-B.ST...\n",
      "Hämtar data från SBB-B.ST...\n"
     ]
    },
    {
     "name": "stderr",
     "output_type": "stream",
     "text": [
      "\n",
      "[*********************100%***********************]  1 of 1 completed\n",
      "[*********************100%***********************]  1 of 1 completed\n"
     ]
    },
    {
     "name": "stdout",
     "output_type": "stream",
     "text": [
      "Hämtar data från SAND.ST...\n",
      "Hämtar data från SCA-B.ST...\n",
      "Hämtar data från SEB-A.ST...\n"
     ]
    },
    {
     "name": "stderr",
     "output_type": "stream",
     "text": [
      "[*********************100%***********************]  1 of 1 completed\n",
      "[*********************100%***********************]  1 of 1 completed\n",
      "[*********************100%***********************]  1 of 1 completed\n",
      "[*********************100%***********************]  1 of 1 completed"
     ]
    },
    {
     "name": "stdout",
     "output_type": "stream",
     "text": [
      "Hämtar data från SINCH.ST...\n",
      "Hämtar data från SKF-B.ST...\n",
      "Hämtar data från SWED-A.ST...\n"
     ]
    },
    {
     "name": "stderr",
     "output_type": "stream",
     "text": [
      "\n",
      "[*********************100%***********************]  1 of 1 completed\n",
      "[*********************100%***********************]  1 of 1 completed\n"
     ]
    },
    {
     "name": "stdout",
     "output_type": "stream",
     "text": [
      "Hämtar data från TEL2-B.ST...\n",
      "Hämtar data från TELIA.ST...\n",
      "Hämtar data från VOLV-B.ST...\n"
     ]
    },
    {
     "name": "stderr",
     "output_type": "stream",
     "text": [
      "[*********************100%***********************]  1 of 1 completed\n"
     ]
    }
   ],
   "source": [
    "for ticker in yf_omx30_tickers:\n",
    "        print(f'Hämtar data från {ticker}...')\n",
    "        df = yf.download(ticker, start_date, end_date)\n",
    "        if not df.empty:\n",
    "            df.to_csv(f\"{SAVE_DIR}/{'stocks'}/{ticker.replace('=', '').replace('^','')}.csv\")"
   ]
  },
  {
   "cell_type": "code",
   "execution_count": 94,
   "id": "90e84dd0-30eb-454f-9225-df65a1f23e49",
   "metadata": {},
   "outputs": [
    {
     "name": "stderr",
     "output_type": "stream",
     "text": [
      "[*********************100%***********************]  1 of 1 completed\n",
      "[*********************100%***********************]  1 of 1 completed\n",
      "[*********************100%***********************]  1 of 1 completed"
     ]
    },
    {
     "name": "stdout",
     "output_type": "stream",
     "text": [
      "Hämtar data från ^OMX...\n",
      "Hämtar data från ^GSPC...\n",
      "Hämtar data från ^NDX...\n",
      "Hämtar data från ^DJI...\n"
     ]
    },
    {
     "name": "stderr",
     "output_type": "stream",
     "text": [
      "\n",
      "[*********************100%***********************]  1 of 1 completed\n",
      "[*********************100%***********************]  1 of 1 completed\n"
     ]
    },
    {
     "name": "stdout",
     "output_type": "stream",
     "text": [
      "Hämtar data från ^GDAXI...\n"
     ]
    }
   ],
   "source": [
    "for ticker in yf_index_tickers:\n",
    "        print(f'Hämtar data från {ticker}...')\n",
    "        df = yf.download(ticker, start_date, end_date)\n",
    "        if not df.empty:\n",
    "            df.to_csv(f\"{SAVE_DIR}/{'indices'}/{ticker.replace('=', '').replace('^','')}.csv\")"
   ]
  },
  {
   "cell_type": "code",
   "execution_count": 97,
   "id": "d21e739e-68ba-4e3a-92f8-94cb935a77e6",
   "metadata": {},
   "outputs": [
    {
     "name": "stderr",
     "output_type": "stream",
     "text": [
      "[*********************100%***********************]  1 of 1 completed\n",
      "[*********************100%***********************]  1 of 1 completed\n",
      "[*********************100%***********************]  1 of 1 completed"
     ]
    },
    {
     "name": "stdout",
     "output_type": "stream",
     "text": [
      "Hämtar data från GC=F...\n",
      "Hämtar data från SI=F...\n",
      "Hämtar data från CL=F...\n",
      "Hämtar data från NG=F...\n"
     ]
    },
    {
     "name": "stderr",
     "output_type": "stream",
     "text": [
      "\n",
      "[*********************100%***********************]  1 of 1 completed\n",
      "[*********************100%***********************]  1 of 1 completed\n"
     ]
    },
    {
     "name": "stdout",
     "output_type": "stream",
     "text": [
      "Hämtar data från HG=F...\n"
     ]
    }
   ],
   "source": [
    "for ticker in yf_commodity_tickers:\n",
    "        print(f'Hämtar data från {ticker}...')\n",
    "        df = yf.download(ticker, start_date, end_date)\n",
    "        if not df.empty:\n",
    "            df.to_csv(f\"{SAVE_DIR}/{'commodities'}/{ticker.replace('=', '').replace('^','')}.csv\")"
   ]
  },
  {
   "cell_type": "code",
   "execution_count": null,
   "id": "8c9410ad-556f-460d-a5ed-be47472f2fdd",
   "metadata": {},
   "outputs": [],
   "source": [
    "#All raw data gathered into different files"
   ]
  }
 ],
 "metadata": {
  "kernelspec": {
   "display_name": "Python 3 (ipykernel)",
   "language": "python",
   "name": "python3"
  },
  "language_info": {
   "codemirror_mode": {
    "name": "ipython",
    "version": 3
   },
   "file_extension": ".py",
   "mimetype": "text/x-python",
   "name": "python",
   "nbconvert_exporter": "python",
   "pygments_lexer": "ipython3",
   "version": "3.12.9"
  }
 },
 "nbformat": 4,
 "nbformat_minor": 5
}
